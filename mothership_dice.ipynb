{
 "cells": [
  {
   "cell_type": "code",
   "execution_count": null,
   "metadata": {},
   "outputs": [],
   "source": [
    "import random\n",
    "import pandas as pd\n",
    "import matplotlib.pyplot as plt\n",
    "\n",
    "def roll_die(sides):\n",
    "    if sides == 100:\n",
    "        return random.randint(0, 99)\n",
    "    else:\n",
    "        return random.randint(1, sides)\n",
    "\n",
    "def roll_dice(num_die, sides):\n",
    "    total = 0\n",
    "\n",
    "    for die in num_die:\n",
    "        total += roll_die(sides)\n",
    "    \n",
    "    return total\n",
    "\n",
    "def roll_dice_advantage(num_die, sides):\n",
    "    roll_one = roll_dice(num_die, sides)\n",
    "    roll_two = roll_dice(num_die, sides)\n",
    "\n",
    "    return max(roll_one, roll_two)\n",
    "\n",
    "def roll_dice_disadvantage(num_die, sides):\n",
    "    roll_one = roll_dice(num_die, sides)\n",
    "    roll_two = roll_dice(num_die, sides)\n",
    "\n",
    "    return min(roll_one, roll_two)"
   ]
  },
  {
   "cell_type": "code",
   "execution_count": null,
   "metadata": {},
   "outputs": [
    {
     "ename": "",
     "evalue": "",
     "output_type": "error",
     "traceback": [
      "\u001b[1;31mRunning cells with 'Python 3.10.5 ('mothership_dice')' requires ipykernel package.\n",
      "Run the following command to install 'ipykernel' into the Python environment. \n",
      "Command: 'conda install -n mothership_dice ipykernel --update-deps --force-reinstall'"
     ]
    }
   ],
   "source": [
    "df = pd.DataFrame(index=range(10000))\n",
    "\n",
    "df['1d100'] = roll_dice(1, 100)\n",
    "df['1d100[+]'] = roll_dice_advantage(1, 100)\n",
    "df['1d100[-]'] = roll_dice_disadvantage(1, 100)"
   ]
  },
  {
   "cell_type": "code",
   "execution_count": null,
   "metadata": {},
   "outputs": [],
   "source": [
    "total_dice = 4\n",
    "\n",
    "for die in total_dice:\n",
    "    df[f\"{die}d10\"] = roll_dice(die, 10)\n",
    "    df[f\"{die}d10[+]\"] = roll_dice_advantage(die, 10)\n",
    "    df[f\"{die}d10[+]\"] = roll_dice_disadvantage(die, 10)"
   ]
  },
  {
   "cell_type": "code",
   "execution_count": null,
   "metadata": {},
   "outputs": [],
   "source": [
    "df['d20'] = roll_dice(1, 20)\n",
    "df['d20[+]'] = roll_dice_advantage(1, 20)\n",
    "df['d20[-]'] = roll_dice_disadvantage(1, 20)"
   ]
  }
 ],
 "metadata": {
  "kernelspec": {
   "display_name": "Python 3.10.5 ('mothership_dice')",
   "language": "python",
   "name": "python3"
  },
  "language_info": {
   "name": "python",
   "version": "3.10.5"
  },
  "orig_nbformat": 4,
  "vscode": {
   "interpreter": {
    "hash": "9b1a4e5eff4194dd554f8ac023e14a638570c0b9d480c3bcc1c9628188f6abf3"
   }
  }
 },
 "nbformat": 4,
 "nbformat_minor": 2
}
